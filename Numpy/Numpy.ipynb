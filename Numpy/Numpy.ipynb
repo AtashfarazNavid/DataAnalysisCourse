{
  "nbformat": 4,
  "nbformat_minor": 0,
  "metadata": {
    "colab": {
      "name": "Numpy.ipynb",
      "provenance": [],
      "collapsed_sections": [
        "xF5Tf5eDBBhe",
        "rvHCf-wLBeTz",
        "eveVvoOFBw7X",
        "o5rcJr28CETm",
        "uIfku3i4CYx_",
        "sZnqROSYDfFV",
        "XdSV8Dh5QSfg",
        "LOJLl6soQuQ2",
        "WzDeeX09Sjbz",
        "gA6F43ScUPxc",
        "IWeIlNjIWKvX",
        "JXaBx2n69VAp",
        "cRc3CM83jvUu"
      ]
    },
    "kernelspec": {
      "name": "python3",
      "display_name": "Python 3"
    },
    "language_info": {
      "name": "python"
    }
  },
  "cells": [
    {
      "cell_type": "markdown",
      "metadata": {
        "id": "0FABxxl9ijfw"
      },
      "source": [
        "<img src=\"https://upload.wikimedia.org/wikipedia/commons/thumb/3/31/NumPy_logo_2020.svg/1280px-NumPy_logo_2020.svg.png\" />"
      ]
    },
    {
      "cell_type": "markdown",
      "metadata": {
        "id": "tYz_VzY6hviC"
      },
      "source": [
        "<div class=\"alert alert-block alert-success\">\n",
        "    <h1 align=\"center\" >Introduction to Data Analysis in Python</h1>\n",
        "    <h3 align=\"center\">Session 03: Numpy </h3>\n",
        "    <h4 align=\"center\"><a href=\"https://github.com/AtashfarazNavid/\">My Github link</a></h5>\n",
        "    <h4 align=\"center\"><a href=\"https://www.linkedin.com/in/navidatashfaraz/\">My LinkedIn link </a></h5>\n",
        " \n",
        "</div>"
      ]
    },
    {
      "cell_type": "markdown",
      "metadata": {
        "id": "qVmNbVBUl8FP"
      },
      "source": [
        "\n",
        "\n",
        "---\n",
        "# **Table of Contents**\n",
        "1. **What is the NumPy Library in Python?** <br> \n",
        "2. **Install Numpy**\n",
        "3. **Creating a NumPy Array** <br> \n",
        "4. **The Shape and Reshaping of NumPy Arrays** <br>\n",
        "5. **Indexing and Slicing of NumPy array** <br>\n",
        "6. **Stacking and Concatenating NumPy arrays** <br>\n",
        "7. **Maths with NumPy arrays** <br>\n",
        "\n",
        "\n",
        "\n",
        "---\n",
        "\n"
      ]
    },
    {
      "cell_type": "markdown",
      "metadata": {
        "id": "TBv0LLWxqf8l"
      },
      "source": [
        "# **1-** **What is the NumPy library in Python?**\n",
        "**NumPy** stands for **Numerical Python** and is one of the most useful scientific libraries in Python programming. It provides support for large multidimensional array objects and various tools to work with them. Various other libraries like Pandas, Matplotlib, and Scikit-learn are built on top of this amazing library.\n",
        "\n",
        "**Arrays** are a collection of elements/values, that can have one or more dimensions. An array of one dimension is called a Vector while having two dimensions is called a Matrix.\n",
        "\n",
        "\n",
        "<img src = \"https://predictivehacks.com/wp-content/uploads/2020/08/numpy_arrays-1024x572.png\">\n"
      ]
    },
    {
      "cell_type": "markdown",
      "metadata": {
        "id": "cXob9vhq86Zl"
      },
      "source": [
        "# **2- Install Numpy**\n",
        "NumPy comes pre-installed when you download Anaconda. But if you want to install NumPy separately on your machine, just type the below command on your terminal:"
      ]
    },
    {
      "cell_type": "code",
      "metadata": {
        "colab": {
          "base_uri": "https://localhost:8080/"
        },
        "id": "J8zwRI3dhuox",
        "outputId": "2f10ac42-5074-4214-f04c-7b96b6c95050"
      },
      "source": [
        "!pip install numpy "
      ],
      "execution_count": null,
      "outputs": [
        {
          "output_type": "stream",
          "name": "stdout",
          "text": [
            "Requirement already satisfied: numpy in /usr/local/lib/python3.7/dist-packages (1.19.5)\n"
          ]
        }
      ]
    },
    {
      "cell_type": "markdown",
      "metadata": {
        "id": "XzFjKy6G9QuH"
      },
      "source": [
        "## **Now you need to import the library**"
      ]
    },
    {
      "cell_type": "code",
      "metadata": {
        "id": "pbak1NyRhusN"
      },
      "source": [
        "import numpy as np"
      ],
      "execution_count": null,
      "outputs": []
    },
    {
      "cell_type": "code",
      "metadata": {
        "colab": {
          "base_uri": "https://localhost:8080/",
          "height": 35
        },
        "id": "a3dTcvBghuvM",
        "outputId": "f65110cf-6d45-43f0-d92a-2d1064426537"
      },
      "source": [
        "np.__version__"
      ],
      "execution_count": null,
      "outputs": [
        {
          "output_type": "execute_result",
          "data": {
            "application/vnd.google.colaboratory.intrinsic+json": {
              "type": "string"
            },
            "text/plain": [
              "'1.19.5'"
            ]
          },
          "metadata": {},
          "execution_count": 18
        }
      ]
    },
    {
      "cell_type": "markdown",
      "metadata": {
        "id": "WZJtSnGz9pSD"
      },
      "source": [
        "np is the de facto abbreviation for NumPy used by the data science community."
      ]
    },
    {
      "cell_type": "markdown",
      "metadata": {
        "id": "dpogpqA0-KV5"
      },
      "source": [
        "# **3- Creating a NumPy Array**"
      ]
    },
    {
      "cell_type": "markdown",
      "metadata": {
        "id": "aGFQJc4KA7el"
      },
      "source": [
        "## Basic ndarray\n",
        "NumPy arrays are very easy to create given the complex problems they solve. To create a very basic ndarray, you use the **np.array()** method. All you have to pass are the values of the array as a list:"
      ]
    },
    {
      "cell_type": "code",
      "metadata": {
        "colab": {
          "base_uri": "https://localhost:8080/"
        },
        "id": "H6dhfRW29iBc",
        "outputId": "d2b97e92-5d63-4bba-9b38-2251f0141471"
      },
      "source": [
        "np.array([1,2,3,4])"
      ],
      "execution_count": null,
      "outputs": [
        {
          "output_type": "execute_result",
          "data": {
            "text/plain": [
              "array([1, 2, 3, 4])"
            ]
          },
          "metadata": {},
          "execution_count": 19
        }
      ]
    },
    {
      "cell_type": "markdown",
      "metadata": {
        "id": "bQFR3J8L-11z"
      },
      "source": [
        "This array contains integer values. You can specify the type of data in the dtype argument:"
      ]
    },
    {
      "cell_type": "code",
      "metadata": {
        "colab": {
          "base_uri": "https://localhost:8080/"
        },
        "id": "Q_nh4qa8-flf",
        "outputId": "5951fd35-cb29-4a19-c899-774c4bcc3f3c"
      },
      "source": [
        "np.array([1,2,3,4],dtype=np.float32) "
      ],
      "execution_count": null,
      "outputs": [
        {
          "output_type": "execute_result",
          "data": {
            "text/plain": [
              "array([1., 2., 3., 4.], dtype=float32)"
            ]
          },
          "metadata": {},
          "execution_count": 20
        }
      ]
    },
    {
      "cell_type": "markdown",
      "metadata": {
        "id": "a7q95_3D_ukk"
      },
      "source": [
        "NumPy arrays can be **multi-dimensional** too."
      ]
    },
    {
      "cell_type": "code",
      "metadata": {
        "id": "gNYt9l99_il6"
      },
      "source": [
        "a= np.array([[1,2,3,4], \n",
        "             [5,6,7,8]])"
      ],
      "execution_count": null,
      "outputs": []
    },
    {
      "cell_type": "code",
      "metadata": {
        "id": "MZHbj6nlCaBB",
        "colab": {
          "base_uri": "https://localhost:8080/"
        },
        "outputId": "0cf7e8fb-845e-4039-f279-bc5d49709f8c"
      },
      "source": [
        "a"
      ],
      "execution_count": null,
      "outputs": [
        {
          "output_type": "execute_result",
          "data": {
            "text/plain": [
              "array([[1, 2, 3, 4],\n",
              "       [5, 6, 7, 8]])"
            ]
          },
          "metadata": {},
          "execution_count": 22
        }
      ]
    },
    {
      "cell_type": "code",
      "metadata": {
        "colab": {
          "base_uri": "https://localhost:8080/"
        },
        "id": "q3xKjbn8ulur",
        "outputId": "5f31d95a-deb4-4e3f-9528-10a758bd4273"
      },
      "source": [
        "a= np.array([[4,3], \n",
        "             [6,9]])\n",
        "b= np.array([[-2,9], \n",
        "             [-5,2]])\n",
        "\n",
        "c= a-b\n",
        "c"
      ],
      "execution_count": null,
      "outputs": [
        {
          "output_type": "execute_result",
          "data": {
            "text/plain": [
              "array([[ 6, -6],\n",
              "       [11,  7]])"
            ]
          },
          "metadata": {},
          "execution_count": 33
        }
      ]
    },
    {
      "cell_type": "code",
      "metadata": {
        "colab": {
          "base_uri": "https://localhost:8080/"
        },
        "id": "egBK2eYIu7Lb",
        "outputId": "9bca80dc-ab2b-479d-ae6d-2edd62b76424"
      },
      "source": [
        "x= np.array([[5], \n",
        "                [5],\n",
        "                [2],\n",
        "                [7]])\n",
        "x"
      ],
      "execution_count": null,
      "outputs": [
        {
          "output_type": "execute_result",
          "data": {
            "text/plain": [
              "array([[5],\n",
              "       [5],\n",
              "       [2],\n",
              "       [7]])"
            ]
          },
          "metadata": {},
          "execution_count": 36
        }
      ]
    },
    {
      "cell_type": "code",
      "metadata": {
        "colab": {
          "base_uri": "https://localhost:8080/"
        },
        "id": "AvU6t0MmvJVY",
        "outputId": "1a8bb5ec-15cc-44dd-e509-e0809decb4b6"
      },
      "source": [
        "2*x"
      ],
      "execution_count": null,
      "outputs": [
        {
          "output_type": "execute_result",
          "data": {
            "text/plain": [
              "array([[10],\n",
              "       [10],\n",
              "       [ 4],\n",
              "       [14]])"
            ]
          },
          "metadata": {},
          "execution_count": 37
        }
      ]
    },
    {
      "cell_type": "code",
      "metadata": {
        "colab": {
          "base_uri": "https://localhost:8080/"
        },
        "id": "5WB2HDsEv_tv",
        "outputId": "61ff97d4-2e68-47b5-e185-e2749d2bb171"
      },
      "source": [
        "u= np.array([[3], \n",
        "            [-5],\n",
        "            [4]])\n",
        "v= np.array([[1], \n",
        "            [2],\n",
        "            [5]]) \n",
        "u"
      ],
      "execution_count": null,
      "outputs": [
        {
          "output_type": "execute_result",
          "data": {
            "text/plain": [
              "array([[ 3],\n",
              "       [-5],\n",
              "       [ 4]])"
            ]
          },
          "metadata": {},
          "execution_count": 38
        }
      ]
    },
    {
      "cell_type": "code",
      "metadata": {
        "colab": {
          "base_uri": "https://localhost:8080/"
        },
        "id": "Dnp6sPe1wVb8",
        "outputId": "58c0bec6-cff2-427b-f1df-255c541663fc"
      },
      "source": [
        "c= np.transpose(u)\n",
        "c"
      ],
      "execution_count": null,
      "outputs": [
        {
          "output_type": "execute_result",
          "data": {
            "text/plain": [
              "array([[ 3, -5,  4]])"
            ]
          },
          "metadata": {},
          "execution_count": 41
        }
      ]
    },
    {
      "cell_type": "code",
      "metadata": {
        "colab": {
          "base_uri": "https://localhost:8080/"
        },
        "id": "8ot_kMxawciT",
        "outputId": "0d0266e6-87fc-4713-833a-ebebc92bd1c6"
      },
      "source": [
        "c*v"
      ],
      "execution_count": null,
      "outputs": [
        {
          "output_type": "execute_result",
          "data": {
            "text/plain": [
              "array([[  3,  -5,   4],\n",
              "       [  6, -10,   8],\n",
              "       [ 15, -25,  20]])"
            ]
          },
          "metadata": {},
          "execution_count": 42
        }
      ]
    },
    {
      "cell_type": "code",
      "metadata": {
        "id": "ZNncskKvyjhN"
      },
      "source": [
        "u= np.array([3,-5,4]) \n",
        "v= np.array([[1], \n",
        "            [2],\n",
        "            [5]]) "
      ],
      "execution_count": null,
      "outputs": []
    },
    {
      "cell_type": "code",
      "metadata": {
        "id": "3wQJi7I1yt7T",
        "colab": {
          "base_uri": "https://localhost:8080/"
        },
        "outputId": "21961d06-149b-42c2-93a6-9277348b6622"
      },
      "source": [
        "u*v"
      ],
      "execution_count": null,
      "outputs": [
        {
          "output_type": "execute_result",
          "data": {
            "text/plain": [
              "array([[  3,  -5,   4],\n",
              "       [  6, -10,   8],\n",
              "       [ 15, -25,  20]])"
            ]
          },
          "metadata": {},
          "execution_count": 44
        }
      ]
    },
    {
      "cell_type": "markdown",
      "metadata": {
        "id": "WfCXhj7LABZI"
      },
      "source": [
        "Here, we created a **2-dimensional** array of values.\n",
        "\n",
        "Note: A matrix is just a rectangular array of numbers with shape N x M where N is the number of rows and M is the number of columns in the matrix. The one you just saw above is a 2 x 4 matrix."
      ]
    },
    {
      "cell_type": "markdown",
      "metadata": {
        "id": "xF5Tf5eDBBhe"
      },
      "source": [
        "## Array of zeros\n",
        "NumPy lets you create an array of all zeros using the **np.zeros()** method. All you have to do is pass the shape of the desired array:"
      ]
    },
    {
      "cell_type": "code",
      "metadata": {
        "colab": {
          "base_uri": "https://localhost:8080/"
        },
        "id": "JDUIXCK4BJiE",
        "outputId": "adf8a7d8-ef71-45e8-873e-ab39ad2564d9"
      },
      "source": [
        "np.zeros(5)"
      ],
      "execution_count": null,
      "outputs": [
        {
          "output_type": "execute_result",
          "data": {
            "text/plain": [
              "array([0., 0., 0., 0., 0.])"
            ]
          },
          "metadata": {},
          "execution_count": 23
        }
      ]
    },
    {
      "cell_type": "markdown",
      "metadata": {
        "id": "685AG5GuBVZj"
      },
      "source": [
        "The one above is a 1-D array while the one below is a 2-D array:"
      ]
    },
    {
      "cell_type": "code",
      "metadata": {
        "colab": {
          "base_uri": "https://localhost:8080/"
        },
        "id": "y76baNTyBJdS",
        "outputId": "2e22dd3e-7f40-4a23-dd18-30f60ef12339"
      },
      "source": [
        "np.zeros((2,3)) "
      ],
      "execution_count": null,
      "outputs": [
        {
          "output_type": "execute_result",
          "data": {
            "text/plain": [
              "array([[0., 0., 0.],\n",
              "       [0., 0., 0.]])"
            ]
          },
          "metadata": {},
          "execution_count": 24
        }
      ]
    },
    {
      "cell_type": "markdown",
      "metadata": {
        "id": "rvHCf-wLBeTz"
      },
      "source": [
        "## Array of ones\n",
        "You could also create an array of all 1s using the **np.ones()** method:"
      ]
    },
    {
      "cell_type": "code",
      "metadata": {
        "colab": {
          "base_uri": "https://localhost:8080/"
        },
        "id": "Nw8uQNkdBgaJ",
        "outputId": "acf05d2a-38d5-4ed0-b80a-6b8ee70522c6"
      },
      "source": [
        "np.ones(5,dtype=np.int32)"
      ],
      "execution_count": null,
      "outputs": [
        {
          "output_type": "execute_result",
          "data": {
            "text/plain": [
              "array([1, 1, 1, 1, 1], dtype=int32)"
            ]
          },
          "metadata": {},
          "execution_count": 25
        }
      ]
    },
    {
      "cell_type": "markdown",
      "metadata": {
        "id": "eveVvoOFBw7X"
      },
      "source": [
        "## Random numbers in ndarrays\n",
        "Another very commonly used method to create ndarrays is **np.random.rand()** method. It creates an array of a given shape with random values from [0,1):"
      ]
    },
    {
      "cell_type": "code",
      "metadata": {
        "colab": {
          "base_uri": "https://localhost:8080/"
        },
        "id": "WU-Oe6UGBgWs",
        "outputId": "ca8e9935-9ae1-4c98-b411-9c5ee95e2986"
      },
      "source": [
        "#random \n",
        "np.random.rand(2,3)"
      ],
      "execution_count": null,
      "outputs": [
        {
          "output_type": "execute_result",
          "data": {
            "text/plain": [
              "array([[0.36067131, 0.71353006, 0.54564504],\n",
              "       [0.99454446, 0.46396027, 0.01850135]])"
            ]
          },
          "metadata": {},
          "execution_count": 12
        }
      ]
    },
    {
      "cell_type": "markdown",
      "metadata": {
        "id": "o5rcJr28CETm"
      },
      "source": [
        "## An array of your choice\n",
        "Or, in fact, you can create an array filled with any given value using the **np.full()** method. Just pass in the shape of the desired array and the value you want:"
      ]
    },
    {
      "cell_type": "code",
      "metadata": {
        "colab": {
          "base_uri": "https://localhost:8080/"
        },
        "id": "Com0fC4lCIiV",
        "outputId": "fb523706-80dc-4a98-ba47-8a68b79c6146"
      },
      "source": [
        "np.full((2,2),7)"
      ],
      "execution_count": null,
      "outputs": [
        {
          "output_type": "execute_result",
          "data": {
            "text/plain": [
              "array([[7, 7],\n",
              "       [7, 7]])"
            ]
          },
          "metadata": {},
          "execution_count": 26
        }
      ]
    },
    {
      "cell_type": "markdown",
      "metadata": {
        "id": "uIfku3i4CYx_"
      },
      "source": [
        "## Imatrix in NumPy\n",
        "Another great method is **np.eye()** that returns an array with 1s along its diagonal and 0s everywhere else.\n",
        "\n",
        "An Identity matrix is a square matrix that has 1s along its main diagonal and 0s everywhere else. Below is an Identity matrix of shape 3 x 3.\n",
        "\n",
        "Note: A square matrix has an **N x N shape**. This means it has the **Same number of rows and columns**."
      ]
    },
    {
      "cell_type": "code",
      "metadata": {
        "colab": {
          "base_uri": "https://localhost:8080/"
        },
        "id": "zSZ34DC_CcnA",
        "outputId": "3950a64d-d8db-490f-e055-a8a9cd7bcd29"
      },
      "source": [
        "#identity matrix\n",
        "np.eye(3)"
      ],
      "execution_count": null,
      "outputs": [
        {
          "output_type": "execute_result",
          "data": {
            "text/plain": [
              "array([[1., 0., 0.],\n",
              "       [0., 1., 0.],\n",
              "       [0., 0., 1.]])"
            ]
          },
          "metadata": {},
          "execution_count": 14
        }
      ]
    },
    {
      "cell_type": "code",
      "metadata": {
        "colab": {
          "base_uri": "https://localhost:8080/"
        },
        "id": "oiqOwLI0CyIN",
        "outputId": "23c752cc-4c5c-4e02-dea8-0cbd1f24c33f"
      },
      "source": [
        "np.eye(5)"
      ],
      "execution_count": null,
      "outputs": [
        {
          "output_type": "execute_result",
          "data": {
            "text/plain": [
              "array([[1., 0., 0., 0., 0.],\n",
              "       [0., 1., 0., 0., 0.],\n",
              "       [0., 0., 1., 0., 0.],\n",
              "       [0., 0., 0., 1., 0.],\n",
              "       [0., 0., 0., 0., 1.]])"
            ]
          },
          "metadata": {},
          "execution_count": 14
        }
      ]
    },
    {
      "cell_type": "markdown",
      "metadata": {
        "id": "ZGLBd8sfDByq"
      },
      "source": [
        "However, NumPy gives you the flexibility to change the diagonal along which the values have to be 1s. You can either move it above the main diagonal:"
      ]
    },
    {
      "cell_type": "code",
      "metadata": {
        "colab": {
          "base_uri": "https://localhost:8080/"
        },
        "id": "cSMh2gumDDG_",
        "outputId": "13f48df6-6a2f-4db7-85d3-1a62eefb3287"
      },
      "source": [
        "np.eye(3,k=1)"
      ],
      "execution_count": null,
      "outputs": [
        {
          "output_type": "execute_result",
          "data": {
            "text/plain": [
              "array([[0., 1., 0.],\n",
              "       [0., 0., 1.],\n",
              "       [0., 0., 0.]])"
            ]
          },
          "metadata": {},
          "execution_count": 15
        }
      ]
    },
    {
      "cell_type": "code",
      "metadata": {
        "colab": {
          "base_uri": "https://localhost:8080/"
        },
        "id": "BXMidmdtDKWg",
        "outputId": "5424953d-0eec-4545-cb61-99f38711f3f5"
      },
      "source": [
        "np.eye(3,k=-2)"
      ],
      "execution_count": null,
      "outputs": [
        {
          "output_type": "execute_result",
          "data": {
            "text/plain": [
              "array([[0., 0., 0.],\n",
              "       [0., 0., 0.],\n",
              "       [1., 0., 0.]])"
            ]
          },
          "metadata": {},
          "execution_count": 16
        }
      ]
    },
    {
      "cell_type": "markdown",
      "metadata": {
        "id": "sZnqROSYDfFV"
      },
      "source": [
        "## Evenly spaced ndarray\n",
        "You can quickly get an evenly spaced array of numbers using the **np.arange()** method:"
      ]
    },
    {
      "cell_type": "code",
      "metadata": {
        "colab": {
          "base_uri": "https://localhost:8080/"
        },
        "id": "XvD4C4HzDipX",
        "outputId": "3bda63cc-c217-4626-f087-664b76a24a62"
      },
      "source": [
        "np.arange(5)"
      ],
      "execution_count": null,
      "outputs": [
        {
          "output_type": "execute_result",
          "data": {
            "text/plain": [
              "array([0, 1, 2, 3, 4])"
            ]
          },
          "metadata": {},
          "execution_count": 17
        }
      ]
    },
    {
      "cell_type": "markdown",
      "metadata": {
        "id": "XuCy4qZaDsKj"
      },
      "source": [
        "The start, end and step size of the interval of values can be explicitly defined by passing in three numbers as arguments for these values respectively. A point to be noted here is that the interval is defined as **[start,end)** where the last number will not be included in the array:"
      ]
    },
    {
      "cell_type": "code",
      "metadata": {
        "colab": {
          "base_uri": "https://localhost:8080/"
        },
        "id": "RVPS8eHJDiup",
        "outputId": "df39603d-cdb9-436d-e3d9-806fe9110457"
      },
      "source": [
        "np.arange(2,10,2)"
      ],
      "execution_count": null,
      "outputs": [
        {
          "output_type": "execute_result",
          "data": {
            "text/plain": [
              "array([2, 4, 6, 8])"
            ]
          },
          "metadata": {},
          "execution_count": 27
        }
      ]
    },
    {
      "cell_type": "markdown",
      "metadata": {
        "id": "LiUyGmY2EKxH"
      },
      "source": [
        "Alternate elements were printed because the step-size was defined as 2. Notice that 10 was not printed as it was the last element.\n",
        "\n",
        "<img src = \"https://cdn.analyticsvidhya.com/wp-content/uploads/2020/04/np_arange.png\">\n",
        "\n",
        "Another similar function is **np.linspace()**, but instead of step size, it takes in the number of samples that need to be retrieved from the interval. A point to note here is that the last number is included in the values returned unlike in the case of np.arange().\n",
        "\n",
        "<img src = \"https://i0.wp.com/arrayjson.com/wp-content/uploads/2020/07/numpy.linspace-working-with-example.jpg?resize=751%2C212&ssl=1\">"
      ]
    },
    {
      "cell_type": "code",
      "metadata": {
        "colab": {
          "base_uri": "https://localhost:8080/"
        },
        "id": "Ptnp0fB1EPHA",
        "outputId": "f80bfc09-358d-4b56-83c7-4beb2fbdc342"
      },
      "source": [
        "np.linspace(0,1,5)"
      ],
      "execution_count": null,
      "outputs": [
        {
          "output_type": "execute_result",
          "data": {
            "text/plain": [
              "array([0.  , 0.25, 0.5 , 0.75, 1.  ])"
            ]
          },
          "metadata": {},
          "execution_count": 17
        }
      ]
    },
    {
      "cell_type": "code",
      "metadata": {
        "colab": {
          "base_uri": "https://localhost:8080/"
        },
        "id": "lcCw97zYFoAE",
        "outputId": "3fc891e9-bd0a-4506-c187-00941413b3f4"
      },
      "source": [
        "np.linspace(1, 2, num=5)"
      ],
      "execution_count": null,
      "outputs": [
        {
          "output_type": "execute_result",
          "data": {
            "text/plain": [
              "array([1.  , 1.25, 1.5 , 1.75, 2.  ])"
            ]
          },
          "metadata": {},
          "execution_count": 18
        }
      ]
    },
    {
      "cell_type": "code",
      "metadata": {
        "colab": {
          "base_uri": "https://localhost:8080/"
        },
        "id": "Un3b5bmQFtnI",
        "outputId": "facca4cd-416e-4707-e5a0-1b7dd4595f2c"
      },
      "source": [
        "np.linspace(1, 2, num=11)"
      ],
      "execution_count": null,
      "outputs": [
        {
          "output_type": "execute_result",
          "data": {
            "text/plain": [
              "array([1. , 1.1, 1.2, 1.3, 1.4, 1.5, 1.6, 1.7, 1.8, 1.9, 2. ])"
            ]
          },
          "metadata": {},
          "execution_count": 28
        }
      ]
    },
    {
      "cell_type": "markdown",
      "metadata": {
        "id": "Gkjb4S-ZF6mc"
      },
      "source": [
        "# **4- The Shape and Reshaping of NumPy Arrays**"
      ]
    },
    {
      "cell_type": "markdown",
      "metadata": {
        "id": "XdSV8Dh5QSfg"
      },
      "source": [
        "## Dimensions of NumPy arrays\n",
        "You can easily determine the number of dimensions or axes of a NumPy array using the ndims attribute:"
      ]
    },
    {
      "cell_type": "code",
      "metadata": {
        "id": "XE-TKA_T-DwO"
      },
      "source": [
        "import numpy as np"
      ],
      "execution_count": null,
      "outputs": []
    },
    {
      "cell_type": "code",
      "metadata": {
        "colab": {
          "base_uri": "https://localhost:8080/"
        },
        "id": "psB5x6kiP3G_",
        "outputId": "825676b4-8671-4809-bbea-501a344170c3"
      },
      "source": [
        "#number of axis\n",
        "a = np.array([[5,10,15],\n",
        "              [20,25,20]])\n",
        "\n",
        "print('Array :','\\n',a)\n",
        "print('Dimensions :','\\n',a.ndim)  "
      ],
      "execution_count": null,
      "outputs": [
        {
          "output_type": "stream",
          "name": "stdout",
          "text": [
            "Array : \n",
            " [[ 5 10 15]\n",
            " [20 25 20]]\n",
            "Dimensions : \n",
            " 2\n"
          ]
        }
      ]
    },
    {
      "cell_type": "markdown",
      "metadata": {
        "id": "yKwYp3P_QiFw"
      },
      "source": [
        "This array has two dimensions: 2 rows and 3 columns."
      ]
    },
    {
      "cell_type": "markdown",
      "metadata": {
        "id": "LOJLl6soQuQ2"
      },
      "source": [
        "## Shape of NumPy array\n",
        "The shape is an attribute of the NumPy array that shows how many rows of elements are there along each dimension. You can further index the shape so returned by the ndarray to get value along each dimension:"
      ]
    },
    {
      "cell_type": "code",
      "metadata": {
        "colab": {
          "base_uri": "https://localhost:8080/"
        },
        "id": "xuffYYYiQVbK",
        "outputId": "06cb1b53-710a-4add-84c0-77c79ebf0d7b"
      },
      "source": [
        "a = np.array([[1,2,3],\n",
        "              [4,5,6]])\n",
        "\n",
        "print('Array :','\\n',a)\n",
        "print('Shape :','\\n',a.shape)\n",
        "print('Rows = ',a.shape[0]) \n",
        "print('Columns = ',a.shape[1])"
      ],
      "execution_count": null,
      "outputs": [
        {
          "output_type": "stream",
          "name": "stdout",
          "text": [
            "Array : \n",
            " [[1 2 3]\n",
            " [4 5 6]]\n",
            "Shape : \n",
            " (2, 3)\n",
            "Rows =  2\n",
            "Columns =  3\n"
          ]
        }
      ]
    },
    {
      "cell_type": "markdown",
      "metadata": {
        "id": "rDKbuDd-SOyY"
      },
      "source": [
        "<img src = \"https://cdn.analyticsvidhya.com/wp-content/uploads/2020/04/np_shape-1.png\">"
      ]
    },
    {
      "cell_type": "markdown",
      "metadata": {
        "id": "WzDeeX09Sjbz"
      },
      "source": [
        "## Reshaping a NumPy array \n",
        "Reshaping a ndarray can be done using the **np.reshape()** method. It changes the shape of the ndarray without changing the data within the ndarray:"
      ]
    },
    {
      "cell_type": "code",
      "metadata": {
        "colab": {
          "base_uri": "https://localhost:8080/"
        },
        "id": "ntJIpR9BQVTL",
        "outputId": "e449ca10-16c6-420e-f453-500beb9dcc3f"
      },
      "source": [
        "# reshape\n",
        "a = np.array([3,6,9,12])\n",
        "\n",
        "np.reshape(a,(2,2))"
      ],
      "execution_count": null,
      "outputs": [
        {
          "output_type": "execute_result",
          "data": {
            "text/plain": [
              "array([[ 3,  6],\n",
              "       [ 9, 12]])"
            ]
          },
          "metadata": {},
          "execution_count": 4
        }
      ]
    },
    {
      "cell_type": "code",
      "metadata": {
        "colab": {
          "base_uri": "https://localhost:8080/",
          "height": 374
        },
        "id": "DeJKYYC0_QvC",
        "outputId": "6e649d30-59b9-438f-e0b6-cf59cdb2401e"
      },
      "source": [
        "# reshape\n",
        "a = np.array([3,6,9,12])\n",
        "np.reshape(a,(2,3))"
      ],
      "execution_count": null,
      "outputs": [
        {
          "output_type": "error",
          "ename": "ValueError",
          "evalue": "ignored",
          "traceback": [
            "\u001b[0;31m---------------------------------------------------------------------------\u001b[0m",
            "\u001b[0;31mValueError\u001b[0m                                Traceback (most recent call last)",
            "\u001b[0;32m<ipython-input-9-d1fba49c77ff>\u001b[0m in \u001b[0;36m<module>\u001b[0;34m()\u001b[0m\n\u001b[1;32m      1\u001b[0m \u001b[0;31m# reshape\u001b[0m\u001b[0;34m\u001b[0m\u001b[0;34m\u001b[0m\u001b[0;34m\u001b[0m\u001b[0m\n\u001b[1;32m      2\u001b[0m \u001b[0ma\u001b[0m \u001b[0;34m=\u001b[0m \u001b[0mnp\u001b[0m\u001b[0;34m.\u001b[0m\u001b[0marray\u001b[0m\u001b[0;34m(\u001b[0m\u001b[0;34m[\u001b[0m\u001b[0;36m3\u001b[0m\u001b[0;34m,\u001b[0m\u001b[0;36m6\u001b[0m\u001b[0;34m,\u001b[0m\u001b[0;36m9\u001b[0m\u001b[0;34m,\u001b[0m\u001b[0;36m12\u001b[0m\u001b[0;34m]\u001b[0m\u001b[0;34m)\u001b[0m\u001b[0;34m\u001b[0m\u001b[0;34m\u001b[0m\u001b[0m\n\u001b[0;32m----> 3\u001b[0;31m \u001b[0mnp\u001b[0m\u001b[0;34m.\u001b[0m\u001b[0mreshape\u001b[0m\u001b[0;34m(\u001b[0m\u001b[0ma\u001b[0m\u001b[0;34m,\u001b[0m\u001b[0;34m(\u001b[0m\u001b[0;36m2\u001b[0m\u001b[0;34m,\u001b[0m\u001b[0;36m3\u001b[0m\u001b[0;34m)\u001b[0m\u001b[0;34m)\u001b[0m\u001b[0;34m\u001b[0m\u001b[0;34m\u001b[0m\u001b[0m\n\u001b[0m",
            "\u001b[0;32m<__array_function__ internals>\u001b[0m in \u001b[0;36mreshape\u001b[0;34m(*args, **kwargs)\u001b[0m\n",
            "\u001b[0;32m/usr/local/lib/python3.7/dist-packages/numpy/core/fromnumeric.py\u001b[0m in \u001b[0;36mreshape\u001b[0;34m(a, newshape, order)\u001b[0m\n\u001b[1;32m    297\u001b[0m            [5, 6]])\n\u001b[1;32m    298\u001b[0m     \"\"\"\n\u001b[0;32m--> 299\u001b[0;31m     \u001b[0;32mreturn\u001b[0m \u001b[0m_wrapfunc\u001b[0m\u001b[0;34m(\u001b[0m\u001b[0ma\u001b[0m\u001b[0;34m,\u001b[0m \u001b[0;34m'reshape'\u001b[0m\u001b[0;34m,\u001b[0m \u001b[0mnewshape\u001b[0m\u001b[0;34m,\u001b[0m \u001b[0morder\u001b[0m\u001b[0;34m=\u001b[0m\u001b[0morder\u001b[0m\u001b[0;34m)\u001b[0m\u001b[0;34m\u001b[0m\u001b[0;34m\u001b[0m\u001b[0m\n\u001b[0m\u001b[1;32m    300\u001b[0m \u001b[0;34m\u001b[0m\u001b[0m\n\u001b[1;32m    301\u001b[0m \u001b[0;34m\u001b[0m\u001b[0m\n",
            "\u001b[0;32m/usr/local/lib/python3.7/dist-packages/numpy/core/fromnumeric.py\u001b[0m in \u001b[0;36m_wrapfunc\u001b[0;34m(obj, method, *args, **kwds)\u001b[0m\n\u001b[1;32m     56\u001b[0m \u001b[0;34m\u001b[0m\u001b[0m\n\u001b[1;32m     57\u001b[0m     \u001b[0;32mtry\u001b[0m\u001b[0;34m:\u001b[0m\u001b[0;34m\u001b[0m\u001b[0;34m\u001b[0m\u001b[0m\n\u001b[0;32m---> 58\u001b[0;31m         \u001b[0;32mreturn\u001b[0m \u001b[0mbound\u001b[0m\u001b[0;34m(\u001b[0m\u001b[0;34m*\u001b[0m\u001b[0margs\u001b[0m\u001b[0;34m,\u001b[0m \u001b[0;34m**\u001b[0m\u001b[0mkwds\u001b[0m\u001b[0;34m)\u001b[0m\u001b[0;34m\u001b[0m\u001b[0;34m\u001b[0m\u001b[0m\n\u001b[0m\u001b[1;32m     59\u001b[0m     \u001b[0;32mexcept\u001b[0m \u001b[0mTypeError\u001b[0m\u001b[0;34m:\u001b[0m\u001b[0;34m\u001b[0m\u001b[0;34m\u001b[0m\u001b[0m\n\u001b[1;32m     60\u001b[0m         \u001b[0;31m# A TypeError occurs if the object does have such a method in its\u001b[0m\u001b[0;34m\u001b[0m\u001b[0;34m\u001b[0m\u001b[0;34m\u001b[0m\u001b[0m\n",
            "\u001b[0;31mValueError\u001b[0m: cannot reshape array of size 4 into shape (2,3)"
          ]
        }
      ]
    },
    {
      "cell_type": "markdown",
      "metadata": {
        "id": "wdATB7XCS1Ro"
      },
      "source": [
        "Here, I reshaped the ndarray from a 1-D to a 2-D ndarray.\n",
        "\n",
        "While reshaping, if you are unsure about the shape of any of the axis, just input -1. NumPy automatically calculates the shape when it sees a -1:"
      ]
    },
    {
      "cell_type": "code",
      "metadata": {
        "colab": {
          "base_uri": "https://localhost:8080/"
        },
        "id": "Y1-IPvEMQVPY",
        "outputId": "c9576a46-cfc5-47c6-e666-3fe0791b4efc"
      },
      "source": [
        "a = np.array([3,6,9,12,18,24])\n",
        "\n",
        "print('Three rows :','\\n',np.reshape(a,(3,-1)))\n",
        "print('Three columns :','\\n',np.reshape(a,(-1,3)))"
      ],
      "execution_count": null,
      "outputs": [
        {
          "output_type": "stream",
          "name": "stdout",
          "text": [
            "Three rows : \n",
            " [[ 3  6]\n",
            " [ 9 12]\n",
            " [18 24]]\n",
            "Three columns : \n",
            " [[ 3  6  9]\n",
            " [12 18 24]]\n"
          ]
        }
      ]
    },
    {
      "cell_type": "markdown",
      "metadata": {
        "id": "gA6F43ScUPxc"
      },
      "source": [
        "## Flattening a NumPy array\n",
        "Sometimes when you have a multidimensional array and want to collapse it to a single-dimensional array, you can either use the **flatten()** method or the **ravel()** method:"
      ]
    },
    {
      "cell_type": "code",
      "metadata": {
        "colab": {
          "base_uri": "https://localhost:8080/"
        },
        "id": "CGhX-GvsUVvA",
        "outputId": "7ab5e085-2c08-46db-e279-0cca1bbf8e9d"
      },
      "source": [
        "a = np.ones((2,2))\n",
        "\n",
        "b = a.flatten()\n",
        "c = a.ravel()\n",
        "print('Original shape :', a.shape)\n",
        "print('Array :','\\n', a)\n",
        "print('Shape after flatten :',b.shape)\n",
        "print('Array :','\\n', b)\n",
        "print('Shape after ravel :',c.shape)\n",
        "print('Array :','\\n', c)"
      ],
      "execution_count": null,
      "outputs": [
        {
          "output_type": "stream",
          "name": "stdout",
          "text": [
            "Original shape : (2, 2)\n",
            "Array : \n",
            " [[1. 1.]\n",
            " [1. 1.]]\n",
            "Shape after flatten : (4,)\n",
            "Array : \n",
            " [1. 1. 1. 1.]\n",
            "Shape after ravel : (4,)\n",
            "Array : \n",
            " [1. 1. 1. 1.]\n"
          ]
        }
      ]
    },
    {
      "cell_type": "markdown",
      "metadata": {
        "id": "-M8sLDxKU2RY"
      },
      "source": [
        "<img src = \"https://cdn.analyticsvidhya.com/wp-content/uploads/2020/04/np_flatten.png\">\n",
        "\n",
        "But an important difference between flatten() and ravel() is that the former returns a copy of the original array while the latter returns a reference to the original array. This means any changes made to the array returned from ravel() will also be reflected in the original array while this will not be the case with flatten()."
      ]
    },
    {
      "cell_type": "code",
      "metadata": {
        "colab": {
          "base_uri": "https://localhost:8080/"
        },
        "id": "bxcdMf7AU7k7",
        "outputId": "0b0ae32b-d947-4958-897d-f16bd383c97a"
      },
      "source": [
        "b[0] = 0\n",
        "\n",
        "print(a)"
      ],
      "execution_count": null,
      "outputs": [
        {
          "output_type": "stream",
          "name": "stdout",
          "text": [
            "[[1. 1.]\n",
            " [1. 1.]]\n"
          ]
        }
      ]
    },
    {
      "cell_type": "markdown",
      "metadata": {
        "id": "3C4ELkakVebM"
      },
      "source": [
        "The **change made** was **not** reflected in the **original array**."
      ]
    },
    {
      "cell_type": "code",
      "metadata": {
        "colab": {
          "base_uri": "https://localhost:8080/"
        },
        "id": "u6EZufpdVjYP",
        "outputId": "9bb41799-17cd-4995-d411-4500eb4eca2f"
      },
      "source": [
        "c[0] = 0\n",
        "\n",
        "print(a) "
      ],
      "execution_count": null,
      "outputs": [
        {
          "output_type": "stream",
          "name": "stdout",
          "text": [
            "[[0. 1.]\n",
            " [1. 1.]]\n"
          ]
        }
      ]
    },
    {
      "cell_type": "markdown",
      "metadata": {
        "id": "cAWyBT4LVruH"
      },
      "source": [
        "But here, the **changed value** is also reflected in the original ndarray."
      ]
    },
    {
      "cell_type": "markdown",
      "metadata": {
        "id": "IWeIlNjIWKvX"
      },
      "source": [
        "## Transpose of a NumPy array\n",
        "Another very interesting reshaping method of NumPy is the **transpose()** method. It takes the input array and swaps the rows with the column values, and the column values with the values of the rows:"
      ]
    },
    {
      "cell_type": "code",
      "metadata": {
        "colab": {
          "base_uri": "https://localhost:8080/"
        },
        "id": "Omby1EA-VvEZ",
        "outputId": "8f81ddd2-02d7-4484-b7e0-30990e1cbea5"
      },
      "source": [
        "a = np.array([[1,2,3],\n",
        "              [4,5,6]]) \n",
        "b = np.transpose(a)\n",
        "print('Original','\\n','Shape',a.shape,'\\n',a)\n",
        "print('Expand along columns:','\\n','Shape',b.shape,'\\n',b)"
      ],
      "execution_count": null,
      "outputs": [
        {
          "output_type": "stream",
          "name": "stdout",
          "text": [
            "Original \n",
            " Shape (2, 3) \n",
            " [[1 2 3]\n",
            " [4 5 6]]\n",
            "Expand along columns: \n",
            " Shape (3, 2) \n",
            " [[1 4]\n",
            " [2 5]\n",
            " [3 6]]\n"
          ]
        }
      ]
    },
    {
      "cell_type": "markdown",
      "metadata": {
        "id": "yZvkvv4WXslD"
      },
      "source": [
        "\n",
        "\n",
        "<img src = \"https://andymath.com/wp-content/uploads/2019/07/TransposeExamples.jpg\">\n",
        "\n",
        "On transposing a 2 x 3 array, we got a 3 x 2 array. Transpose has a lot of significance in linear algebra."
      ]
    },
    {
      "cell_type": "markdown",
      "metadata": {
        "id": "ikCXlPJbY6UM"
      },
      "source": [
        "# **5- Indexing and Slicing of NumPy array**\n",
        "\n",
        "So far, we have seen how to create a NumPy array and how to play around with its shape. In this section, we will see how to extract specific values from the array using indexing and slicing."
      ]
    },
    {
      "cell_type": "markdown",
      "metadata": {
        "id": "P12whAj5Y92T"
      },
      "source": [
        "## Slicing 1-D NumPy arrays\n",
        "Slicing means retrieving elements from one index to another index. All we have to do is to pass the starting and ending point in the index like this: [start: end].\n",
        "\n",
        "However, you can even take it up a notch by passing the step-size. What is that? Well, suppose you wanted to print every other element from the array, you would define your step-size as 2, meaning get the element 2 places away from the present index.\n",
        "\n",
        "Incorporating all this into a single index would look something like this: **[start:end:step-size]**."
      ]
    },
    {
      "cell_type": "code",
      "metadata": {
        "colab": {
          "base_uri": "https://localhost:8080/"
        },
        "id": "PV63T1jUYobi",
        "outputId": "3200b19a-4ffc-4b34-ff6a-9ac87ff62119"
      },
      "source": [
        "a = np.array([1,2,3,4,5,6])\n",
        "\n",
        "a[1:5:2]"
      ],
      "execution_count": null,
      "outputs": [
        {
          "output_type": "execute_result",
          "data": {
            "text/plain": [
              "array([2, 4])"
            ]
          },
          "metadata": {},
          "execution_count": 2
        }
      ]
    },
    {
      "cell_type": "markdown",
      "metadata": {
        "id": "7BlRkDYhbAdN"
      },
      "source": [
        "Notice that the last element did not get considered. This is because slicing includes the start index but excludes the end index.\n",
        "\n",
        "A way around this is to write the next higher index to the final index value you want to retrieve:"
      ]
    },
    {
      "cell_type": "code",
      "metadata": {
        "colab": {
          "base_uri": "https://localhost:8080/"
        },
        "id": "jyenD4OMaqVx",
        "outputId": "f23d392e-8657-4d2d-d01d-a9e24c50b351"
      },
      "source": [
        "a = np.array([1,2,3,4,5,6])\n",
        "print(a[1:6:2]) "
      ],
      "execution_count": null,
      "outputs": [
        {
          "output_type": "stream",
          "name": "stdout",
          "text": [
            "[2 4 6]\n"
          ]
        }
      ]
    },
    {
      "cell_type": "code",
      "metadata": {
        "id": "QPSLMeE9ba2W",
        "colab": {
          "base_uri": "https://localhost:8080/"
        },
        "outputId": "6f9ffa06-4e15-4655-8f1b-66858539d230"
      },
      "source": [
        "a = np.array([1,2,3,4,5,6])\n",
        "\n",
        "print(a[:6:2])\n",
        "print(a[1::2])\n",
        "print(a[1:6:])"
      ],
      "execution_count": null,
      "outputs": [
        {
          "output_type": "stream",
          "name": "stdout",
          "text": [
            "[1 3 5]\n",
            "[2 4 6]\n",
            "[2 3 4 5 6]\n"
          ]
        }
      ]
    },
    {
      "cell_type": "markdown",
      "metadata": {
        "id": "0itycYmZvTZ7"
      },
      "source": [
        "## Slicing 2-D NumPy arrays\n",
        "Now, a 2-D array has rows and columns so it can get a little tricky to slice 2-D arrays. But once you understand it, you can slice any dimension array!\n",
        "\n",
        "Before learning how to slice a 2-D array, let’s have a look at how to retrieve an element from a 2-D array:"
      ]
    },
    {
      "cell_type": "code",
      "metadata": {
        "colab": {
          "base_uri": "https://localhost:8080/"
        },
        "id": "CS_d-3IDsutP",
        "outputId": "401736ab-0215-4d15-ab58-b84020210d7d"
      },
      "source": [
        "a = np.array([[1,2,3],\n",
        "              [4,5,6]])\n",
        "\n",
        "print(a[0,0])\n",
        "\n",
        "print(a[1,2])\n",
        "print(a[1,0])"
      ],
      "execution_count": null,
      "outputs": [
        {
          "output_type": "stream",
          "name": "stdout",
          "text": [
            "1\n",
            "6\n",
            "4\n"
          ]
        }
      ]
    },
    {
      "cell_type": "code",
      "metadata": {
        "colab": {
          "base_uri": "https://localhost:8080/"
        },
        "id": "ukK_gcI7IQEm",
        "outputId": "66ab967e-e18c-4d8b-bc10-eaa17bb565cf"
      },
      "source": [
        "arr = np.array([[1, 2, 3, 4, 5], \n",
        "                [6, 7, 8, 9, 10]])\n",
        "\n",
        "print(arr[1, 1:4])"
      ],
      "execution_count": null,
      "outputs": [
        {
          "output_type": "stream",
          "name": "stdout",
          "text": [
            "[7 8 9]\n"
          ]
        }
      ]
    },
    {
      "cell_type": "code",
      "metadata": {
        "colab": {
          "base_uri": "https://localhost:8080/"
        },
        "id": "0z64vE5RIh9F",
        "outputId": "c7d57763-9c17-484e-ab53-3825870b7a03"
      },
      "source": [
        "arr = np.array([[1, 2, 3, 4, 5], \n",
        "                [6, 7, 8, 9, 10]])\n",
        "\n",
        "print(arr[0:2, 2])"
      ],
      "execution_count": null,
      "outputs": [
        {
          "output_type": "stream",
          "name": "stdout",
          "text": [
            "[3 8]\n"
          ]
        }
      ]
    },
    {
      "cell_type": "code",
      "metadata": {
        "colab": {
          "base_uri": "https://localhost:8080/"
        },
        "id": "geEf1R3bIscl",
        "outputId": "396e7347-479c-4025-8e08-44c78ce1025b"
      },
      "source": [
        "arr = np.array([[1, 2, 3, 4, 5], [6, 7, 8, 9, 10]])\n",
        "\n",
        "print(arr[0:2, 1:4])"
      ],
      "execution_count": null,
      "outputs": [
        {
          "output_type": "stream",
          "name": "stdout",
          "text": [
            "[[2 3 4]\n",
            " [7 8 9]]\n"
          ]
        }
      ]
    },
    {
      "cell_type": "code",
      "metadata": {
        "colab": {
          "base_uri": "https://localhost:8080/"
        },
        "id": "0aW6n_RK_zWW",
        "outputId": "7560d717-bf1e-4bf1-ed61-0deb2e34c4eb"
      },
      "source": [
        "arr = np.array([[1, 2, 3, 4, 5], \n",
        "                [6, 7, 8, 9, 10],\n",
        "                [1, 8, 2, 7, 3]])\n",
        "\n",
        "print(arr[0: , 0:2])"
      ],
      "execution_count": null,
      "outputs": [
        {
          "output_type": "stream",
          "name": "stdout",
          "text": [
            "[[1 2]\n",
            " [6 7]\n",
            " [1 8]]\n"
          ]
        }
      ]
    },
    {
      "cell_type": "markdown",
      "metadata": {
        "id": "YLZTVyCK9R4a"
      },
      "source": [
        "# **6- Stacking and Concatenating NumPy arrays**"
      ]
    },
    {
      "cell_type": "markdown",
      "metadata": {
        "id": "JXaBx2n69VAp"
      },
      "source": [
        "## Stacking ndarrays\n",
        "You can create a new array by combining existing arrays. This you can do in two ways:\n",
        "\n",
        "Either combine the arrays vertically (i.e. along the rows) using the **vstack()** method, thereby increasing the number of rows in the resulting array\n",
        "Or combine the arrays in a horizontal fashion (i.e. along the columns) using the **hstack()**, thereby increasing the number of columns in the resultant array\n",
        "\n",
        "<img src = \"https://cdn.analyticsvidhya.com/wp-content/uploads/2020/04/Stacking.png\">"
      ]
    },
    {
      "cell_type": "code",
      "metadata": {
        "colab": {
          "base_uri": "https://localhost:8080/"
        },
        "id": "y0JAtDmK9noJ",
        "outputId": "8b68212b-63cb-4cd7-d1b0-859eb4506ba6"
      },
      "source": [
        "a = np.arange(0,5)\n",
        "b = np.arange(5,10)\n",
        "\n",
        "print('Array 1 :','\\n',a)\n",
        "print('Array 2 :','\\n',b)\n",
        "\n",
        "print('Vertical stacking :','\\n',np.vstack((a,b)))\n",
        "\n",
        "print('Horizontal stacking :','\\n',np.hstack((a,b)))"
      ],
      "execution_count": null,
      "outputs": [
        {
          "output_type": "stream",
          "name": "stdout",
          "text": [
            "Array 1 : \n",
            " [0 1 2 3 4]\n",
            "Array 2 : \n",
            " [5 6 7 8 9]\n",
            "Vertical stacking : \n",
            " [[0 1 2 3 4]\n",
            " [5 6 7 8 9]]\n",
            "Horizontal stacking : \n",
            " [0 1 2 3 4 5 6 7 8 9]\n"
          ]
        }
      ]
    },
    {
      "cell_type": "code",
      "metadata": {
        "colab": {
          "base_uri": "https://localhost:8080/"
        },
        "id": "g5gYFjDPDE0l",
        "outputId": "4b83b403-c28b-42e8-a026-45289eef5ebd"
      },
      "source": [
        "a.shape"
      ],
      "execution_count": null,
      "outputs": [
        {
          "output_type": "execute_result",
          "data": {
            "text/plain": [
              "(5,)"
            ]
          },
          "metadata": {},
          "execution_count": 21
        }
      ]
    },
    {
      "cell_type": "markdown",
      "metadata": {
        "id": "ZRlGeDvwfFJu"
      },
      "source": [
        "## Concatenating ndarrays\n",
        "While stacking arrays is one way of combining old arrays to get a new one, you could also use the **concatenate()** method where the passed arrays are joined along an existing axis:"
      ]
    },
    {
      "cell_type": "code",
      "metadata": {
        "colab": {
          "base_uri": "https://localhost:8080/"
        },
        "id": "U_JoleoieTtJ",
        "outputId": "a84629f9-0137-487c-a9a2-46bbc325c60c"
      },
      "source": [
        "a = np.arange(0,5).reshape(1,5)\n",
        "b = np.arange(5,10).reshape(1,5)\n",
        "\n",
        "print('Array 1 :','\\n',a)\n",
        "print('Array 2 :','\\n',b)\n",
        "\n",
        "print('Concatenate along rows :','\\n',np.concatenate((a,b),axis=0))\n",
        "print('Concatenate along columns :','\\n',np.concatenate((a,b),axis=1))"
      ],
      "execution_count": null,
      "outputs": [
        {
          "output_type": "stream",
          "name": "stdout",
          "text": [
            "Array 1 : \n",
            " [[0 1 2 3 4]]\n",
            "Array 2 : \n",
            " [[5 6 7 8 9]]\n",
            "Concatenate along rows : \n",
            " [[0 1 2 3 4]\n",
            " [5 6 7 8 9]]\n",
            "Concatenate along columns : \n",
            " [[0 1 2 3 4 5 6 7 8 9]]\n"
          ]
        }
      ]
    },
    {
      "cell_type": "code",
      "metadata": {
        "colab": {
          "base_uri": "https://localhost:8080/"
        },
        "id": "WqrnAKZyDfIH",
        "outputId": "a4912cc8-ea3b-4e5c-a540-e451a94627d1"
      },
      "source": [
        "a.shape"
      ],
      "execution_count": null,
      "outputs": [
        {
          "output_type": "execute_result",
          "data": {
            "text/plain": [
              "(1, 5)"
            ]
          },
          "metadata": {},
          "execution_count": 23
        }
      ]
    },
    {
      "cell_type": "markdown",
      "metadata": {
        "id": "XGC1TNs0gNQz"
      },
      "source": [
        "\n",
        "<img src = \"https://www.tutorialsandyou.com/images/2-Dimensional-concatenate-axis-0.jpg\">"
      ]
    },
    {
      "cell_type": "markdown",
      "metadata": {
        "id": "dIVF66LFg_Gh"
      },
      "source": [
        "The drawback of this method is that the original array must have the axis along which you want to combine. Otherwise, get ready to be greeted by an error.\n",
        "\n",
        "Another very useful function is the **append** method that adds new elements to the end of a ndarray. This is obviously useful when you already have an existing ndarray but want to add new values to it."
      ]
    },
    {
      "cell_type": "code",
      "metadata": {
        "colab": {
          "base_uri": "https://localhost:8080/"
        },
        "id": "P-TIFmhPgyZf",
        "outputId": "5c3ef807-deee-4d51-c1cc-0b98c4d0c8ff"
      },
      "source": [
        "# append values to ndarray\n",
        "a = np.array([[1,2],\n",
        "             [3,4]])\n",
        "\n",
        "np.append(a,[[5,6]], axis=0)"
      ],
      "execution_count": null,
      "outputs": [
        {
          "output_type": "execute_result",
          "data": {
            "text/plain": [
              "array([[1, 2],\n",
              "       [3, 4],\n",
              "       [5, 6]])"
            ]
          },
          "metadata": {},
          "execution_count": 13
        }
      ]
    },
    {
      "cell_type": "markdown",
      "metadata": {
        "id": "4w0aLHb6hcgs"
      },
      "source": [
        "# **7- Maths with NumPy arrays**\n",
        "\n",
        "Here are some of the most important and useful operations that you will need to perform on your NumPy array."
      ]
    },
    {
      "cell_type": "markdown",
      "metadata": {
        "id": "cRc3CM83jvUu"
      },
      "source": [
        "## Basic arithmetic operations on NumPy arrays\n",
        "The basic arithmetic operations can easily be performed on NumPy arrays."
      ]
    },
    {
      "cell_type": "code",
      "metadata": {
        "colab": {
          "base_uri": "https://localhost:8080/"
        },
        "id": "uh8FoiHahbaV",
        "outputId": "a5dc52d2-33fd-4bce-847e-c0373de339b2"
      },
      "source": [
        "a = np.arange(1,6)\n",
        "b = np.arange(6,11)\n",
        "\n",
        "print('Subtract :',a-5)\n",
        "print('Multiply :',a*5)\n",
        "print('Divide :',a/5)\n",
        "print('Power :',a**2)\n",
        "print('Remainder :',a%5)"
      ],
      "execution_count": null,
      "outputs": [
        {
          "output_type": "stream",
          "name": "stdout",
          "text": [
            "Subtract : [-4 -3 -2 -1  0]\n",
            "Multiply : [ 5 10 15 20 25]\n",
            "Divide : [0.2 0.4 0.6 0.8 1. ]\n",
            "Power : [ 1  4  9 16 25]\n",
            "Remainder : [1 2 3 4 0]\n"
          ]
        }
      ]
    },
    {
      "cell_type": "markdown",
      "metadata": {
        "id": "gRJxHm3XkDHz"
      },
      "source": [
        "## Mean, Median and Standard deviation\n",
        "To find the mean and standard deviation of a NumPy array, use the **mean()**, **std()** and **median()** methods:"
      ]
    },
    {
      "cell_type": "code",
      "metadata": {
        "colab": {
          "base_uri": "https://localhost:8080/"
        },
        "id": "w2m1Ccobhven",
        "outputId": "94a3de70-4816-42c0-de0a-09a2532a36f1"
      },
      "source": [
        "a = np.arange(5,15,2)\n",
        "print(a)\n",
        "print('Mean :',np.mean(a))\n",
        "print('Standard deviation :',np.std(a))\n",
        "print('Median :',np.median(a)) "
      ],
      "execution_count": null,
      "outputs": [
        {
          "output_type": "stream",
          "name": "stdout",
          "text": [
            "[ 5  7  9 11 13]\n",
            "Mean : 9.0\n",
            "Standard deviation : 2.8284271247461903\n",
            "Median : 9.0\n"
          ]
        }
      ]
    },
    {
      "cell_type": "markdown",
      "metadata": {
        "id": "meO9obbkkQat"
      },
      "source": [
        "## Min-Max values and their indexes\n",
        "Min and Max values in an ndarray can be easily found using the **min()** and **max()** methods:"
      ]
    },
    {
      "cell_type": "code",
      "metadata": {
        "colab": {
          "base_uri": "https://localhost:8080/"
        },
        "id": "cqjy0_gUkNxq",
        "outputId": "d300f1c5-5e20-4ba5-9080-d48d45004a38"
      },
      "source": [
        "a = np.array([[1,6],\n",
        "              [4,3]])\n",
        "\n",
        "# minimum along a column\n",
        "print('Min :',np.min(a,axis=0))\n",
        "# maximum along a row\n",
        "print('Max :',np.max(a,axis=1))"
      ],
      "execution_count": null,
      "outputs": [
        {
          "output_type": "stream",
          "name": "stdout",
          "text": [
            "Min : [1 3]\n",
            "Max : [6 4]\n"
          ]
        }
      ]
    },
    {
      "cell_type": "code",
      "metadata": {
        "colab": {
          "base_uri": "https://localhost:8080/"
        },
        "id": "YHsVyyqMkqhB",
        "outputId": "a788dd35-0ee3-4ab9-fe23-ad9c597f61ac"
      },
      "source": [
        "# minimum\n",
        "print('Min :',np.min(a))\n",
        "# maximum \n",
        "print('Max :',np.max(a))"
      ],
      "execution_count": null,
      "outputs": [
        {
          "output_type": "stream",
          "name": "stdout",
          "text": [
            "Min : 1\n",
            "Max : 6\n"
          ]
        }
      ]
    },
    {
      "cell_type": "markdown",
      "metadata": {
        "id": "OMSQBCg1lUb2"
      },
      "source": [
        "You can also easily determine the index of the minimum or maximum value in the ndarray along a particular axis using the **argmin()** and **argmax()** methods:"
      ]
    },
    {
      "cell_type": "code",
      "metadata": {
        "colab": {
          "base_uri": "https://localhost:8080/"
        },
        "id": "FVzRsHlhlZcm",
        "outputId": "d021ee1a-deb5-4108-c05e-556d6b44ff28"
      },
      "source": [
        "a = np.random.randint(10, size=7) \n",
        "print(a)\n",
        "\n",
        "# minimum along a column\n",
        "print('Min :',np.argmin(a))\n",
        "# maximum along a row\n",
        "print('Max :',np.argmax(a))"
      ],
      "execution_count": null,
      "outputs": [
        {
          "output_type": "stream",
          "name": "stdout",
          "text": [
            "[7 8 4 8 7 7 2]\n",
            "Min : 6\n",
            "Max : 1\n"
          ]
        }
      ]
    },
    {
      "cell_type": "markdown",
      "metadata": {
        "id": "bIVURGuqo68m"
      },
      "source": [
        "# **8- Sorting in NumPy arrays**\n",
        "The NumPy library It has a range of sorting functions that you can use to sort your array elements. It has implemented **quicksort**, **heapsort**, **mergesort**, and **timesort** for you under the hood when you use the **sort()** method:"
      ]
    },
    {
      "cell_type": "code",
      "metadata": {
        "colab": {
          "base_uri": "https://localhost:8080/"
        },
        "id": "zqVDw_gtpDhj",
        "outputId": "468fc822-edf3-4e0e-ef63-1ada09aab485"
      },
      "source": [
        "a = np.array([1,4,2,5,3,6,8,7,9])\n",
        "np.sort(a, kind='quicksort')"
      ],
      "execution_count": null,
      "outputs": [
        {
          "output_type": "execute_result",
          "data": {
            "text/plain": [
              "array([1, 2, 3, 4, 5, 6, 7, 8, 9])"
            ]
          },
          "metadata": {},
          "execution_count": 2
        }
      ]
    },
    {
      "cell_type": "markdown",
      "metadata": {
        "id": "75obPWBAp8jw"
      },
      "source": [
        "You can even sort the array along any axis you desire:"
      ]
    },
    {
      "cell_type": "code",
      "metadata": {
        "colab": {
          "base_uri": "https://localhost:8080/"
        },
        "id": "Wpc_aOy1p9LI",
        "outputId": "a8826800-29bf-4c45-f981-baa91f48b17d"
      },
      "source": [
        "a = np.array([[5,6,7,4],\n",
        "              [9,2,3,7]])\n",
        "# sort along the column\n",
        "print('Sort along column :','\\n',np.sort(a, kind='mergresort',axis=1))\n",
        "# sort along the row\n",
        "print('Sort along row :','\\n',np.sort(a, kind='quicksort',axis=0))"
      ],
      "execution_count": null,
      "outputs": [
        {
          "output_type": "stream",
          "name": "stdout",
          "text": [
            "Sort along column : \n",
            " [[4 5 6 7]\n",
            " [2 3 7 9]]\n",
            "Sort along row : \n",
            " [[5 2 3 4]\n",
            " [9 6 7 7]]\n"
          ]
        }
      ]
    }
  ]
}